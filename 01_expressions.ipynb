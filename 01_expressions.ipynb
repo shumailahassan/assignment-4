{
  "nbformat": 4,
  "nbformat_minor": 0,
  "metadata": {
    "colab": {
      "provenance": [],
      "authorship_tag": "ABX9TyMP5TYXv4gdoRNyleQXX9zI",
      "include_colab_link": true
    },
    "kernelspec": {
      "name": "python3",
      "display_name": "Python 3"
    },
    "language_info": {
      "name": "python"
    }
  },
  "cells": [
    {
      "cell_type": "markdown",
      "metadata": {
        "id": "view-in-github",
        "colab_type": "text"
      },
      "source": [
        "<a href=\"https://colab.research.google.com/github/shumailahassan/assignment-4/blob/main/01_expressions.ipynb\" target=\"_parent\"><img src=\"https://colab.research.google.com/assets/colab-badge.svg\" alt=\"Open In Colab\"/></a>"
      ]
    },
    {
      "cell_type": "code",
      "execution_count": null,
      "metadata": {
        "id": "o7lTKeNaSGYv",
        "colab": {
          "base_uri": "https://localhost:8080/"
        },
        "outputId": "396e05e3-8ac0-4832-a7f7-7b5ae8c09eef"
      },
      "outputs": [
        {
          "output_type": "stream",
          "name": "stdout",
          "text": [
            "01_dicesimulator\n",
            "die1 in main() starts as: 10\n",
            "Total of two dice: 8\n",
            "Total of two dice: 12\n",
            "Total of two dice: 8\n",
            "die1 in main() is: 10\n"
          ]
        }
      ],
      "source": [
        "print(\"01_dicesimulator\")\n",
        "\n",
        "import random\n",
        "\n",
        "NUM_SIDES = 6\n",
        "\n",
        "def roll_dice():\n",
        "    die1: int = random.randint(1, NUM_SIDES)\n",
        "    die2: int = random.randint(1, NUM_SIDES)\n",
        "    total: int = die1 + die2\n",
        "    print(\"Total of two dice:\", total)\n",
        "\n",
        "def main():\n",
        "    die1: int = 10\n",
        "    print(\"die1 in main() starts as: \" + str(die1))\n",
        "    roll_dice()\n",
        "    roll_dice()\n",
        "    roll_dice()\n",
        "    print(\"die1 in main() is: \" + str(die1))\n",
        "\n",
        "if __name__ == '__main__':\n",
        "    main()\n",
        "\n"
      ]
    },
    {
      "cell_type": "code",
      "source": [
        "print(\"02_e=mc2\")\n",
        "\n",
        "def energy():\n",
        "  c:float = 299792458\n",
        "  m:float = float(input(\"Enter Kilos of mass: \"))\n",
        "  print(\"e = m*c^2\")\n",
        "  print(\"Mass = \" + str(m) + \" kg\")\n",
        "  print(\"C = \"+ str(c) + \" m/s\")\n",
        "  print(\"e = \" + str(m * c ** 2) + \" jules\")\n",
        "\n",
        "if __name__ == \"__main__\":\n",
        "  energy()\n",
        ""
      ],
      "metadata": {
        "colab": {
          "base_uri": "https://localhost:8080/"
        },
        "id": "ubv7uoa2SPNh",
        "outputId": "87e6aa5f-1fea-46a4-a879-188f2879f1e3"
      },
      "execution_count": 7,
      "outputs": [
        {
          "output_type": "stream",
          "name": "stdout",
          "text": [
            "02_e=mc2\n",
            "Enter Kilos of mass: 855\n",
            "e = m*c^2\n",
            "Mass = 855.0 kg\n",
            "C = 299792458 m/s\n",
            "e = 7.68435677819979e+19 jules\n"
          ]
        }
      ]
    },
    {
      "cell_type": "code",
      "source": [
        "print(\"03_feet_to_inches\")\n",
        "\n",
        "inch: int = 12\n",
        "\n",
        "def foot():\n",
        "  feet:int = int(input(\"Enter feet and i will convert into inches. \"))\n",
        "  print(f'There are {inch * feet} inches in {feet} feet.')\n",
        "\n",
        "if __name__== \"__main__\":\n",
        "  foot()"
      ],
      "metadata": {
        "id": "B5mjTiOmSZZQ",
        "colab": {
          "base_uri": "https://localhost:8080/"
        },
        "outputId": "21f7ee10-e30d-4105-fabc-6eed3a508d75"
      },
      "execution_count": 8,
      "outputs": [
        {
          "output_type": "stream",
          "name": "stdout",
          "text": [
            "03_feet_to_inches\n",
            "Enter feet and i will convert into inches. 5\n",
            "There are 60 inches in 5 feet.\n"
          ]
        }
      ]
    },
    {
      "cell_type": "code",
      "source": [
        "import math\n",
        "print(\"04_pythagorean_theorem\")\n",
        "\n",
        "def triangle():\n",
        "  ab:float = float(input(\"Enter the length of the side ab. \"))\n",
        "  ac:float = float(input(\"Enter the length of the side ac. \"))\n",
        "  bc:float = math.sqrt(ab**2 + ac**2)\n",
        "  print(f'The length of bc (the hypothenuse is : {bc})')\n",
        "\n",
        "if __name__==\"__main__\":\n",
        "  triangle()\n",
        ""
      ],
      "metadata": {
        "colab": {
          "base_uri": "https://localhost:8080/"
        },
        "id": "BTikpXnTciXX",
        "outputId": "5a847066-45f5-45be-ebe8-5f121bd4b40b"
      },
      "execution_count": 9,
      "outputs": [
        {
          "output_type": "stream",
          "name": "stdout",
          "text": [
            "04_pythagorean_theorem\n",
            "Enter the length of the side ab. 50\n",
            "Enter the length of the side ac. 40\n",
            "The length of bc (the hypothenuse is : 64.03124237432849)\n"
          ]
        }
      ]
    },
    {
      "cell_type": "code",
      "source": [
        "print(\"05_remainder_division\")\n",
        "\n",
        "def reminder():\n",
        "  num1:int = int(input(\"Enter an integer to be divided: \"))\n",
        "  num2:int = int(input(\"Enter an integer to divide by: \"))\n",
        "  quotient:int = num1 // num2\n",
        "  remainder:int = num1 % num2\n",
        "  print(f'The result of following division is {quotient} with the reminder of {remainder}')\n",
        "\n",
        "if __name__ == \"__main__\":\n",
        "  reminder()"
      ],
      "metadata": {
        "colab": {
          "base_uri": "https://localhost:8080/"
        },
        "id": "IcbyCPFAecM0",
        "outputId": "273e6c10-68f7-449e-ff96-95785ff19b1a"
      },
      "execution_count": 10,
      "outputs": [
        {
          "output_type": "stream",
          "name": "stdout",
          "text": [
            "05_remainder_division\n",
            "Enter an integer to be divided: 50\n",
            "Enter an integer to divide by: 12\n",
            "The result of following division is 4 with the reminder of 2\n"
          ]
        }
      ]
    },
    {
      "cell_type": "code",
      "source": [
        "import random\n",
        "print(\"06_rolldice.\")\n",
        "\n",
        "def dice():\n",
        "  die1:int= random.randint(1,6)\n",
        "  die2:int  = random.randint(1,6)\n",
        "  total:int = int(die1 + die2)\n",
        "  print(\"First die: \" + str(die1))\n",
        "  print(\"Second die:\" + str(die2))\n",
        "  print(f'Total of two dies : {total}' )\n",
        "\n",
        "if __name__==\"__main__\":\n",
        "  dice()"
      ],
      "metadata": {
        "colab": {
          "base_uri": "https://localhost:8080/"
        },
        "id": "b1v2f1qHg65m",
        "outputId": "59c31134-3b3d-4ba5-a38c-2513198894e8"
      },
      "execution_count": 13,
      "outputs": [
        {
          "output_type": "stream",
          "name": "stdout",
          "text": [
            "06_rolldice.\n",
            "First die: 1\n",
            "Second die:5\n",
            "Total of two dies : 6\n"
          ]
        }
      ]
    },
    {
      "cell_type": "code",
      "source": [
        "print(\"06_seconds_in_year\")\n",
        "\n",
        "days_in_year:int = 365\n",
        "hours_per_day:int = 24\n",
        "minutes_per_hour:int = 60\n",
        "seconds_per_minute:int = 60\n",
        "\n",
        "def seconds():\n",
        "  print(f'There are {days_in_year * hours_per_day * minutes_per_hour * seconds_per_minute} seconds in a year!')\n",
        "\n",
        "if __name__==\"__main__\":\n",
        "  seconds()"
      ],
      "metadata": {
        "colab": {
          "base_uri": "https://localhost:8080/"
        },
        "id": "po0CBqPdhw38",
        "outputId": "db9a0ba2-d497-42e5-fb70-43b3203dc226"
      },
      "execution_count": 14,
      "outputs": [
        {
          "output_type": "stream",
          "name": "stdout",
          "text": [
            "06_seconds_in_year\n",
            "There are 31536000 seconds in a year!\n"
          ]
        }
      ]
    },
    {
      "cell_type": "code",
      "source": [
        "print(\"7_tiny_mad_lib\")\n",
        "\n",
        "def mad_lib():\n",
        "  noun:str = str(input(\"Enter a noun: \"))\n",
        "  adjective:str = str(input(\"Enter an adjective: \"))\n",
        "  verb:str = str(input(\"Enter a verb: \"))\n",
        "  print(f\"Do you {verb} your {adjective} {noun}?\")\n",
        "\n",
        "\n",
        "\n",
        "if __name__==\"__main__\":\n",
        "  mad_lib()"
      ],
      "metadata": {
        "colab": {
          "base_uri": "https://localhost:8080/"
        },
        "id": "cBoqdtuZinn2",
        "outputId": "43242268-01f4-4f59-ba67-31b28933f251"
      },
      "execution_count": 15,
      "outputs": [
        {
          "output_type": "stream",
          "name": "stdout",
          "text": [
            "7_tiny_mad_lib\n",
            "Enter a noun: bee\n",
            "Enter an adjective: tiny\n",
            "Enter a verb: fly\n",
            "Do you fly your tiny bee?\n"
          ]
        }
      ]
    }
  ]
}