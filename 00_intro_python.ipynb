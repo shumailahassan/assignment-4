{
  "nbformat": 4,
  "nbformat_minor": 0,
  "metadata": {
    "colab": {
      "provenance": [],
      "authorship_tag": "ABX9TyMWEXHoJm2K5x8l2FNLN7NY",
      "include_colab_link": true
    },
    "kernelspec": {
      "name": "python3",
      "display_name": "Python 3"
    },
    "language_info": {
      "name": "python"
    }
  },
  "cells": [
    {
      "cell_type": "markdown",
      "metadata": {
        "id": "view-in-github",
        "colab_type": "text"
      },
      "source": [
        "<a href=\"https://colab.research.google.com/github/shumailahassan/assignment-4/blob/main/00_intro_python.ipynb\" target=\"_parent\"><img src=\"https://colab.research.google.com/assets/colab-badge.svg\" alt=\"Open In Colab\"/></a>"
      ]
    },
    {
      "cell_type": "markdown",
      "source": [],
      "metadata": {
        "id": "aoNszKzWCx3h"
      }
    },
    {
      "cell_type": "code",
      "source": [
        "print(\"01_add_two_numbers\")\n",
        "\n",
        "def main():\n",
        "    # First number\n",
        "    first_input = input(\"Enter the first number: \")\n",
        "    first_number = int(first_input)\n",
        "\n",
        "    # Second number\n",
        "    second_input = input(\"Enter the second number: \")\n",
        "    second_number = int(second_input)\n",
        "\n",
        "    # Sum\n",
        "    total_sum = first_number + second_number\n",
        "\n",
        "    # Output\n",
        "    print(\"The sum of\", first_number, \"and\", second_number, \"is:\", total_sum)\n",
        "\n",
        "if __name__ == \"__main__\":\n",
        "    main()\n"
      ],
      "metadata": {
        "id": "O6nf5ykmCyR9"
      },
      "execution_count": null,
      "outputs": []
    },
    {
      "cell_type": "code",
      "source": [
        "print(\"02_agreement_bot\")\n",
        "\n",
        "def main():\n",
        "    # Ask the user for their favorite animal\n",
        "    animal = str(input(\"What's your favorite animal? \"))\n",
        "\n",
        "    # Respond with the user's favorite animal\n",
        "    print(f\"My favorite animal is also {animal} ! \")\n",
        "\n",
        "# Required line to call main()\n",
        "if __name__ == '__main__':\n",
        "    main()\n",
        "\n",
        "\n"
      ],
      "metadata": {
        "id": "XF36dvFAKE0f"
      },
      "execution_count": null,
      "outputs": []
    },
    {
      "cell_type": "code",
      "source": [
        "print(\"03_fahrenheit_to_celsius\")\n",
        "\n",
        "def main():\n",
        "    # User se input lo aur float mein convert karo (decimal allow hai)\n",
        "    temp_fahrenheit = float(input(\"Enter temperature in Fahrenheit: \"))\n",
        "\n",
        "    # Celsius mein convert karo using formula\n",
        "    degrees_celsius = (temp_fahrenheit - 32) * 5.0 / 9.0\n",
        "    print(\"Temperature:\", str(temp_fahrenheit) + \" F =\", str(degrees_celsius) + \" C\")\n",
        "\n",
        "\n",
        "if __name__ == '__main__':\n",
        "    main()\n"
      ],
      "metadata": {
        "colab": {
          "base_uri": "https://localhost:8080/"
        },
        "id": "Jx1A2HweOAYa",
        "outputId": "eb22881b-9934-46ec-c36e-f4c581db8a6e"
      },
      "execution_count": null,
      "outputs": [
        {
          "output_type": "stream",
          "name": "stdout",
          "text": [
            "03_fahrenheit_to_celsius\n",
            "Enter temperature in Fahrenheit: 67\n",
            "Temperature: 67.0 F = 19.444444444444443 C\n"
          ]
        }
      ]
    },
    {
      "cell_type": "code",
      "source": [
        "print(\"04_how_old_are_they\")\n",
        "\n",
        "def main():\n",
        "    anton:int = 21  # Anton's age\n",
        "    beth:int = anton + 6  # Beth is 6 years older than Anton\n",
        "    chen:int = beth + 20  # Chen is 20 years older than Beth\n",
        "    drew:int = chen + anton  # Drew is Chen's age + Anton's age\n",
        "    ethan:int = chen  # Ethan is the same age as Chen\n",
        "\n",
        "    # Print each person's age with correct formatting\n",
        "    print(\"Anton is \" + str(anton))\n",
        "    print(\"Beth is \" + str(beth))\n",
        "    print(\"Chen is \" + str(chen))\n",
        "    print(\"Drew is \" + str(drew))\n",
        "    print(\"Ethan is \" + str(ethan))\n",
        "\n",
        "if __name__ == '__main__':\n",
        "    main()\n"
      ],
      "metadata": {
        "colab": {
          "base_uri": "https://localhost:8080/"
        },
        "id": "bpKp5prIa1bi",
        "outputId": "57a04442-c4f7-4ffd-afcd-f861efaa767f"
      },
      "execution_count": null,
      "outputs": [
        {
          "output_type": "stream",
          "name": "stdout",
          "text": [
            "04_how_old_are_they\n",
            "Anton is 21\n",
            "Beth is 27\n",
            "Chen is 47\n",
            "Drew is 68\n",
            "Ethan is 47\n"
          ]
        }
      ]
    },
    {
      "cell_type": "code",
      "source": [
        "print(\"05_triangle_perimeter\")\n",
        "\n",
        "def main():\n",
        "    # User se 3 sides ka input lo, float mein convert karo\n",
        "    side1 = float(input(\"What is the length of side 1? \"))\n",
        "    side2 = float(input(\"What is the length of side 2? \"))\n",
        "    side3 = float(input(\"What is the length of side 3? \"))\n",
        "\n",
        "    # Perimeter calculate\n",
        "    perimeter = side1 + side2 + side3\n",
        "    print(f\"The perimeter of the triangle is \" + str(perimeter))\n",
        "\n",
        "if __name__ == '__main__':\n",
        "    main()\n"
      ],
      "metadata": {
        "colab": {
          "base_uri": "https://localhost:8080/"
        },
        "id": "L19PRStBqVzB",
        "outputId": "c04f75f2-c8a2-431b-f670-ee28a0260d0f"
      },
      "execution_count": null,
      "outputs": [
        {
          "output_type": "stream",
          "name": "stdout",
          "text": [
            "05_triangle_perimeter\n",
            "What is the length of side 1? 3\n",
            "What is the length of side 2? 4\n",
            "What is the length of side 3? 5.5\n",
            "The perimeter of the triangle is 12.5\n"
          ]
        }
      ]
    },
    {
      "cell_type": "code",
      "source": [
        "print(\"06_square_number\")\n",
        "\n",
        "def main():\n",
        "    # User se number ka input lo, float mein convert karo\n",
        "    num = float(input(\"Type a number to see its square: \"))\n",
        "\n",
        "    # Square nikal kar print karo\n",
        "    print(str(num) + \" squared is \" + str(num ** 2))\n",
        "\n",
        "if __name__ == '__main__':\n",
        "    main()\n"
      ],
      "metadata": {
        "colab": {
          "base_uri": "https://localhost:8080/"
        },
        "id": "yswYOB5-s0AT",
        "outputId": "0bbff7e5-9004-4952-8b28-c80f1ef6979a"
      },
      "execution_count": null,
      "outputs": [
        {
          "output_type": "stream",
          "name": "stdout",
          "text": [
            "06_square_number\n",
            "Type a number to see its square: 2\n",
            "2.0 squared is 4.0\n"
          ]
        }
      ]
    }
  ]
}